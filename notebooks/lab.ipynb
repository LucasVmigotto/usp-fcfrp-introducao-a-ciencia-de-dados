{
  "nbformat": 4,
  "nbformat_minor": 0,
  "metadata": {
    "colab": {
      "provenance": [],
      "collapsed_sections": [
        "pkq3pxTOFMPs",
        "4NzEgxOO11Ei",
        "4szu5im61oic",
        "iy5BhJDy1ozM",
        "jvzbIgUr1pAL",
        "3U8gpEmG1pLZ",
        "NLObMiUP1pYb",
        "5L55EUvZ1pkb",
        "KkNRP79Y1puM",
        "2_p977tn1h2c"
      ]
    },
    "kernelspec": {
      "name": "python3",
      "display_name": "Python 3"
    },
    "language_info": {
      "name": "python"
    }
  },
  "cells": [
    {
      "cell_type": "markdown",
      "source": [
        "# USP - Introdução à Ciência de Dados\n",
        "**University of São Paulo - School of Pharmaceutical Sciences of Ribeirão Preto (FCFRP)**"
      ],
      "metadata": {
        "id": "ZXVELMYd0_EK"
      }
    },
    {
      "cell_type": "markdown",
      "source": [
        "## Sumário\n",
        "\n",
        "* [1. Estruturas de Dados](#1-estruturas-de-dados)\n",
        "* [2. Estruturas de Decisão](#2-estruturas-de-decisão)\n",
        "* [3. Estruturas de Repetição](#3-estruturas-de-repetição)\n",
        "* [4. Funções](#4-funções)\n",
        "* [5. NumPy](#5-numpy)\n",
        "* [6. Pandas](#6-pandas)\n",
        "* [7. Regressão](#7-regressão)\n",
        "* [8. Classificação](#8-classificação)\n",
        "* [9. Agrupamento](#9-agrupamento)\n",
        "* [10. Referências](#10-referências)"
      ],
      "metadata": {
        "id": "QW0BskCP1AK2"
      }
    },
    {
      "cell_type": "markdown",
      "source": [
        "## 0. Setup de Ambiente"
      ],
      "metadata": {
        "id": "pkq3pxTOFMPs"
      }
    },
    {
      "cell_type": "markdown",
      "source": [
        "### 0.1. Instalação de libs"
      ],
      "metadata": {
        "id": "6_vEReC0Wc08"
      }
    },
    {
      "cell_type": "code",
      "source": [
        "%%writefile requirements.txt\n",
        "matplotlib==3.7.1\n",
        "numpy==1.25.2\n",
        "pandas==2.0.3\n",
        "scikit-learn==1.2.2\n",
        "seaborn==0.13.1"
      ],
      "metadata": {
        "id": "l6iHBD1lWgrp"
      },
      "execution_count": null,
      "outputs": []
    },
    {
      "cell_type": "code",
      "source": [
        "! pip install -r requirements.txt"
      ],
      "metadata": {
        "id": "C4Zx-lemWhA7"
      },
      "execution_count": null,
      "outputs": []
    },
    {
      "cell_type": "markdown",
      "source": [
        "### 0.2. Importação de libs"
      ],
      "metadata": {
        "id": "YeZImOa9Fkwy"
      }
    },
    {
      "cell_type": "code",
      "source": [
        "import numpy as np\n",
        "import pandas as pd\n",
        "import seaborn as sns\n",
        "\n",
        "from pathlib import Path\n",
        "from urllib.request import urlretrieve\n",
        "\n",
        "from matplotlib import pyplot as plt\n",
        "from numpy import ndarray\n",
        "from pandas import DataFrame\n",
        "from sklearn.metrics import accuracy_score, r2_score, confusion_matrix, ConfusionMatrixDisplay\n",
        "from sklearn.linear_model import LinearRegression, LogisticRegressionCV\n",
        "from sklearn.tree import DecisionTreeRegressor, DecisionTreeClassifier\n",
        "from sklearn.ensemble import RandomForestRegressor, RandomForestClassifier\n",
        "from sklearn.decomposition import PCA\n",
        "from sklearn.model_selection import train_test_split, cross_val_predict, StratifiedKFold"
      ],
      "metadata": {
        "id": "Hhd8TsgmFMn7"
      },
      "execution_count": null,
      "outputs": []
    },
    {
      "cell_type": "markdown",
      "source": [
        "### 0.3. Definição de constantes"
      ],
      "metadata": {
        "id": "P4pM6dtWFitC"
      }
    },
    {
      "cell_type": "code",
      "source": [
        "# @markdown **URL dos Datasets usados**\n",
        "\n",
        "__REGRESSAO_DATASET_URL: str = 'https://archive.ics.uci.edu/static/public/555/apartment+for+rent+classified.zip' # @param {type: \"string\"}\n",
        "__CLASSIFICATION_DATASET_URL: str = 'https://archive.ics.uci.edu/static/public/519/heart+failure+clinical+records.zip' # @param {type: \"string\"}\n",
        "__CLUSTERING_DATASET_URL: str = 'https://archive.ics.uci.edu/static/public/862/turkish+music+emotion.zip' # @param {type: \"string\"}\n",
        "\n",
        "# @markdown ---\n",
        "\n",
        "# @markdown **Local de armazenamento dos Datasets**\n",
        "__DATA_BASE_PATH_VALUE: str = './data/' # @param {type: \"string\"}\n",
        "__DATA_BASE_PATH: Path = Path(__DATA_BASE_PATH_VALUE)\n",
        "\n",
        "__REGRESSION_DATA_PATH_VALUE: str = 'regression' # @param {type: \"string\"}\n",
        "REGRESSION_DATA_PATH: Path = __DATA_BASE_PATH / __REGRESSION_DATA_PATH_VALUE\n",
        "\n",
        "__CLASSIFICATION_DATA_PATH_VALUE: str = 'classification' # @param {type: \"string\"}\n",
        "CLASSIFICATION_DATA_PATH: Path = __DATA_BASE_PATH / __CLASSIFICATION_DATA_PATH_VALUE\n",
        "\n",
        "__DECOMPOSITION_DATA_PATH_VALUE: str = 'decomposition' # @param {type: \"string\"}\n",
        "DECOMPOSITION_DATA_PATH: Path = __DATA_BASE_PATH / __DECOMPOSITION_DATA_PATH_VALUE\n",
        "\n",
        "# @markdown ---\n",
        "\n",
        "# @markdown **Preferências para treinamento dos modelos**\n",
        "\n",
        "SEED: int = 42 # @param {type: \"number\"}\n",
        "VERBOSE: bool = 42 # @param {type: \"boolean\"}\n",
        "TEST_RATIO: int = 0.15 # @param {type: \"slider\", min: 0.1, max: 0.9, step: 0.05}\n",
        "K_FOLDS: int = 10 # @param {type: \"slider\", min: 3, max: 10, step: 1}\n"
      ],
      "metadata": {
        "id": "0rzEOrbVFhWS"
      },
      "execution_count": null,
      "outputs": []
    },
    {
      "cell_type": "markdown",
      "source": [
        "## 1. Estruturas de Dados"
      ],
      "metadata": {
        "id": "4NzEgxOO11Ei"
      }
    },
    {
      "cell_type": "markdown",
      "source": [
        "### 1.1. Lista de temperaturas\n",
        "\n",
        "Crie uma lista de temperaturas de [dez países](https://pt.wikipedia.org/wiki/Lista_de_pa%C3%ADses_por_extremos_meteorol%C3%B3gicos). Escreva em cada célula de um notebook o acesso a elementos da lista para calcular a temperatura em graus Farenheit:\n",
        "\n",
        "$$\n",
        "C=5 \\cdot \\frac{F - 32}{9}\n",
        "$$\n"
      ],
      "metadata": {
        "id": "cdvGjWdC2lWB"
      }
    },
    {
      "cell_type": "code",
      "source": [],
      "metadata": {
        "id": "GKGL6ddU11aU"
      },
      "execution_count": null,
      "outputs": []
    },
    {
      "cell_type": "code",
      "source": [],
      "metadata": {
        "id": "zHU_L_vN11pF"
      },
      "execution_count": null,
      "outputs": []
    },
    {
      "cell_type": "markdown",
      "source": [
        "### 1.2. Altura média por país\n",
        "\n",
        "Tendo como dados de entrada a [altura média por país](https://pt.wikipedia.org/wiki/Estatura) crie um dicionário com 10 países, com chave como nome do país e valor como altura média, imprima em cada linha de um notebook o peso ideal:\n",
        "\n",
        "$$\n",
        "\\text{Peso Ideal} = 72 \\cdot \\text{Altura} - 58\n",
        "$$\n",
        "\n",
        "por país, utilizando um dicionário e o operador de formatação [`f''`](https://docs.python.org/3/tutorial/inputoutput.html#formatted-string-literals)\n"
      ],
      "metadata": {
        "id": "n641n9Zd3AU8"
      }
    },
    {
      "cell_type": "code",
      "source": [],
      "metadata": {
        "id": "AVL4pYOm3GSY"
      },
      "execution_count": null,
      "outputs": []
    },
    {
      "cell_type": "code",
      "source": [],
      "metadata": {
        "id": "YPzAKNY33GgK"
      },
      "execution_count": null,
      "outputs": []
    },
    {
      "cell_type": "markdown",
      "source": [
        "### 1.3. Conversão de valor de bolsa de estudos\n",
        "\n",
        "Faça a conversão do valor de bolsas de pós-graduação de [três países](https://exame.abril.com.br/carreira/confira-63-bolsas-para-estudar-em-paises-como-canada-eua-e-alemanha/) para Reais, imprimindo o salário de uma jornada de 40h semanais:\n",
        "* Por hora trabalhada;\n",
        "* Por mês;\n",
        "* Por ano.\n"
      ],
      "metadata": {
        "id": "qAAWn23l3vp7"
      }
    },
    {
      "cell_type": "code",
      "source": [],
      "metadata": {
        "id": "8xf3S_WU3xWD"
      },
      "execution_count": null,
      "outputs": []
    },
    {
      "cell_type": "code",
      "source": [],
      "metadata": {
        "id": "0Tua5_fp3xkG"
      },
      "execution_count": null,
      "outputs": []
    },
    {
      "cell_type": "markdown",
      "source": [
        "## 2. Estruturas de Decisão"
      ],
      "metadata": {
        "id": "4szu5im61oic"
      }
    },
    {
      "cell_type": "markdown",
      "source": [
        "### 2.1. Está frio?\n",
        "\n",
        "Escreva código em uma célula, para, dado o elemento de uma lista de temperaturas acima, imprimir \"`está frio`\" se a temperatura for menor que um valor de uma variável `t` definida por você ou \"`está calor`\" caso contrário."
      ],
      "metadata": {
        "id": "_5bOnoJQ4ORl"
      }
    },
    {
      "cell_type": "code",
      "execution_count": null,
      "metadata": {
        "id": "ff74c2w01oid"
      },
      "outputs": [],
      "source": []
    },
    {
      "cell_type": "code",
      "source": [],
      "metadata": {
        "id": "Ssomppcr1oif"
      },
      "execution_count": null,
      "outputs": []
    },
    {
      "cell_type": "markdown",
      "source": [
        "### 2.2. Combustíveis\n",
        "\n",
        "Um posto está vendendo combustíveis com a seguinte tabela de descontos:\n",
        "\n",
        "|  Volume  |         Álcool         |        Gasolina        |\n",
        "|---------:|:----------------------:|:-----------------------|\n",
        "|$\\lt{20l}$|desconto de $3%$ por $l$|desconto de $4%$ por $l$|\n",
        "|$\\ge{20l}$|desconto de $5%$ por $l$|desconto de $6%$ por $l$|\n",
        "\n",
        "Escreva um código que leia o número de litros vendidos, o tipo de combustível (codificado da seguinte forma: A-álcool, G-gasolina), calcule e imprima o valor a ser pago pelo cliente sabendo-se que o preço do litro da gasolina é 2,50 reais, e o preço do litro do álcool é de 1,90 reais.\n"
      ],
      "metadata": {
        "id": "yZ87r_L14VQp"
      }
    },
    {
      "cell_type": "code",
      "execution_count": null,
      "metadata": {
        "id": "RPbVqa5J4VQr"
      },
      "outputs": [],
      "source": []
    },
    {
      "cell_type": "code",
      "source": [],
      "metadata": {
        "id": "G9azR3V54VQr"
      },
      "execution_count": null,
      "outputs": []
    },
    {
      "cell_type": "markdown",
      "source": [
        "### 2.3. Frutaria\n",
        "\n",
        "Uma fruteira está vendendo frutas com a seguinte tabela de preços:\n",
        "\n",
        "|Fruta|$\\lt{5}\\text{Kg}$|$\\ge{5}\\text{Kg}$|\n",
        "|-:|:-:|:-|\n",
        "|Morango|2,50 reais por kilo|2,20 reais por kilo|\n",
        "|Maçã|1,80 reais por kilo|1,50 reais por kilo|\n",
        "\n",
        "Se o cliente comprar mais de 8 Kg em frutas ou o valor total da compra ultrapassar R$ 25,00, receberá ainda um desconto de 10% sobre este total. Escreva código para ler a quantidade (em Kg) de morangos e a quantidade (em Kg) de maças adquiridas e escreva o valor a ser pago pelo cliente."
      ],
      "metadata": {
        "id": "PTk7tw444Vyp"
      }
    },
    {
      "cell_type": "code",
      "execution_count": null,
      "metadata": {
        "id": "vO8X8o7_4Vyq"
      },
      "outputs": [],
      "source": []
    },
    {
      "cell_type": "code",
      "source": [],
      "metadata": {
        "id": "ZNj0ec7Y4Vyr"
      },
      "execution_count": null,
      "outputs": []
    },
    {
      "cell_type": "markdown",
      "source": [
        "## 3. Estruturas de Repetição"
      ],
      "metadata": {
        "id": "iy5BhJDy1ozM"
      }
    },
    {
      "cell_type": "markdown",
      "source": [
        "### 3.1. Tabuada\n",
        "\n",
        "Desenvolva um gerador de tabuada, capaz de gerar a tabuada de qualquer número inteiro entre 1 a 10. Dada uma variável k em uma célula calcular a tabuada para o número. A saída deve ser conforme o exemplo abaixo:\n",
        "\n",
        "```text\n",
        "Tabuado de 5:\n",
        "5 X 1 = 5\n",
        "5 X 2 = 10\n",
        "...\n",
        "5 X 10 = 50\n",
        "```"
      ],
      "metadata": {
        "id": "_d34QFJ04blg"
      }
    },
    {
      "cell_type": "code",
      "execution_count": null,
      "metadata": {
        "id": "73GVcAGe4blk"
      },
      "outputs": [],
      "source": []
    },
    {
      "cell_type": "code",
      "source": [],
      "metadata": {
        "id": "Kul-ciA_1ozQ"
      },
      "execution_count": null,
      "outputs": []
    },
    {
      "cell_type": "markdown",
      "source": [
        "### 3.2. Repetição com temperaturas\n",
        "\n",
        "Utilize uma estrutura de repetição para imprimir todos os elementos das listas de temperatura e altura criadas acima."
      ],
      "metadata": {
        "id": "NWmGXB_44dA9"
      }
    },
    {
      "cell_type": "code",
      "execution_count": null,
      "metadata": {
        "id": "tMVQjlh74dA_"
      },
      "outputs": [],
      "source": []
    },
    {
      "cell_type": "code",
      "source": [],
      "metadata": {
        "id": "0i2i3Lt_4dBA"
      },
      "execution_count": null,
      "outputs": []
    },
    {
      "cell_type": "markdown",
      "source": [
        "### 3.3. Repetindo e formatando\n",
        "\n",
        "Acesse chaves e valores do dicionário criado acima, e imprima cada item utilizando o operador de formatação."
      ],
      "metadata": {
        "id": "PAeQHSXr4dSD"
      }
    },
    {
      "cell_type": "code",
      "execution_count": null,
      "metadata": {
        "id": "hsKWOY6B4dSE"
      },
      "outputs": [],
      "source": []
    },
    {
      "cell_type": "code",
      "source": [],
      "metadata": {
        "id": "7GaayQ8k4dSF"
      },
      "execution_count": null,
      "outputs": []
    },
    {
      "cell_type": "markdown",
      "source": [
        "## 4. Funções"
      ],
      "metadata": {
        "id": "jvzbIgUr1pAL"
      }
    },
    {
      "cell_type": "markdown",
      "source": [
        "### 4.1. Invertendo\n",
        "\n",
        "Faça uma função que retorne o reverso de um número inteiro informado.\n",
        "> Por exemplo: `127 -> 721`"
      ],
      "metadata": {
        "id": "Ft-fAAvH4en7"
      }
    },
    {
      "cell_type": "code",
      "execution_count": null,
      "metadata": {
        "id": "nMqIClIJ4en8"
      },
      "outputs": [],
      "source": []
    },
    {
      "cell_type": "code",
      "source": [],
      "metadata": {
        "id": "5oQBzNFH4en8"
      },
      "execution_count": null,
      "outputs": []
    },
    {
      "cell_type": "markdown",
      "source": [
        "### 4.2. Convertendo uma temperatura\n",
        "\n",
        "Faça uma função para converter, que dado um valor numérico de temperatura e um valor de caractere para a escala (Celsius ou Farenheit) converta o número para a escala desejada e retorna o valor."
      ],
      "metadata": {
        "id": "2ig-1XkY4fSs"
      }
    },
    {
      "cell_type": "code",
      "execution_count": null,
      "metadata": {
        "id": "s5Dx5tB_4fSt"
      },
      "outputs": [],
      "source": []
    },
    {
      "cell_type": "code",
      "source": [],
      "metadata": {
        "id": "sEspu3CK4fSu"
      },
      "execution_count": null,
      "outputs": []
    },
    {
      "cell_type": "markdown",
      "source": [
        "### 4.3. 24 para 12 horas com AM/PM\n",
        "\n",
        "Faça uma programa que converta da notação de 24 horas para a notação de 12 horas. Por exemplo, o programa deve converter 14:25 em 2:25 P.M. A entrada é dada em dois inteiros."
      ],
      "metadata": {
        "id": "UkUi3V4g4fqb"
      }
    },
    {
      "cell_type": "code",
      "execution_count": null,
      "metadata": {
        "id": "gd_rVTyV4fqd"
      },
      "outputs": [],
      "source": []
    },
    {
      "cell_type": "code",
      "source": [],
      "metadata": {
        "id": "dNV30wjZ4fqd"
      },
      "execution_count": null,
      "outputs": []
    },
    {
      "cell_type": "markdown",
      "source": [
        "## 5. NumPy"
      ],
      "metadata": {
        "id": "3U8gpEmG1pLZ"
      }
    },
    {
      "cell_type": "markdown",
      "source": [
        "### 5.1. Primeira matriz NumPy\n",
        "\n",
        "Escreva código para criar uma matriz 4 x 10, com números simulados de uma distribuição normal com média 10 e variância 5, e substitua todos os elementos da primeira coluna maiores que 12 por 0."
      ],
      "metadata": {
        "id": "o_OJ3UA81pLa"
      }
    },
    {
      "cell_type": "code",
      "source": [],
      "metadata": {
        "id": "5uS27tWz4hg6"
      },
      "execution_count": null,
      "outputs": []
    },
    {
      "cell_type": "code",
      "source": [],
      "metadata": {
        "id": "gQeylbcX1pLb"
      },
      "execution_count": null,
      "outputs": []
    },
    {
      "cell_type": "markdown",
      "source": [
        "### 5.2. Alturas, Pesos e Matrizes\n",
        "\n",
        "Crie uma matriz 3x3 com 3 alturas de 3 países e calcule o peso ideal (fórmula acima) para multiplicar e somar aos elementos da matriz."
      ],
      "metadata": {
        "id": "tcFItATP4iKG"
      }
    },
    {
      "cell_type": "code",
      "execution_count": null,
      "metadata": {
        "id": "MuiNx5kd4iKH"
      },
      "outputs": [],
      "source": []
    },
    {
      "cell_type": "code",
      "source": [],
      "metadata": {
        "id": "bL6-O_YA4iKI"
      },
      "execution_count": null,
      "outputs": []
    },
    {
      "cell_type": "markdown",
      "source": [
        "### 5.3. NumPy the Hardway: No broadcasting 💪\n",
        "\n",
        "Faça uma função que recebe dois parâmetros, uma matriz numpy e uma constante, e utiliza estruturas de repetição para multiplicar cada elemento da matriz e retorna a matriz multiplicada."
      ],
      "metadata": {
        "id": "kOxX5wPf4icZ"
      }
    },
    {
      "cell_type": "code",
      "execution_count": null,
      "metadata": {
        "id": "usk2NS9-4ica"
      },
      "outputs": [],
      "source": []
    },
    {
      "cell_type": "code",
      "source": [],
      "metadata": {
        "id": "hpa5LVsA4icc"
      },
      "execution_count": null,
      "outputs": []
    },
    {
      "cell_type": "markdown",
      "source": [
        "## 6. Pandas\n",
        "\n",
        "> Para os exercícios, utilize [este conjunto de dados](https://drive.google.com/open?id=1u1SEDTja9QC7MAj_VlQcxNtAhQfs-5YR)"
      ],
      "metadata": {
        "id": "NLObMiUP1pYb"
      }
    },
    {
      "cell_type": "markdown",
      "source": [
        "### 6.1. Explorando o [DataFrame](https://pandas.pydata.org/docs/reference/api/pandas.DataFrame.html)\n",
        "\n",
        "Faça uma função, que dado um dataframe com os dados acima. imprime a média e o desvio padrão das variáveis 'season' e 'holiday'."
      ],
      "metadata": {
        "id": "mmj8xXgZ4lRX"
      }
    },
    {
      "cell_type": "code",
      "execution_count": null,
      "metadata": {
        "id": "iWQYl_px1pYc"
      },
      "outputs": [],
      "source": []
    },
    {
      "cell_type": "code",
      "source": [],
      "metadata": {
        "id": "9Xi0vxmM1pYc"
      },
      "execution_count": null,
      "outputs": []
    },
    {
      "cell_type": "markdown",
      "source": [
        "### 6.2. Novas colunas, novos dados\n",
        "\n",
        "Crie uma nova coluna no `dataframe`, com o nome `'month'` com o mês correspondente de cada linha da coluna `'datetime'` e escreva uma função que dado um `dataframe`, e um valor numérico entre 1 e 12, retorna um sub-`dataframe` para o mês requerido."
      ],
      "metadata": {
        "id": "_QiNGjoW4mrY"
      }
    },
    {
      "cell_type": "code",
      "execution_count": null,
      "metadata": {
        "id": "5L8ZHXoT4mrY"
      },
      "outputs": [],
      "source": []
    },
    {
      "cell_type": "code",
      "source": [],
      "metadata": {
        "id": "Fu3pifkM4mrZ"
      },
      "execution_count": null,
      "outputs": []
    },
    {
      "cell_type": "markdown",
      "source": [
        "### 6.3. _Histogramando_ um pouco\n",
        "\n",
        "Faça um histograma da variável `'temp'` e um boxplot único com a variável `'temp'` em cada `'month'` (no eixo x).\n"
      ],
      "metadata": {
        "id": "DXftEXaf4nTd"
      }
    },
    {
      "cell_type": "code",
      "execution_count": null,
      "metadata": {
        "id": "xeu2plVp4nTk"
      },
      "outputs": [],
      "source": []
    },
    {
      "cell_type": "code",
      "source": [],
      "metadata": {
        "id": "VUffH6wm4nTm"
      },
      "execution_count": null,
      "outputs": []
    },
    {
      "cell_type": "markdown",
      "source": [
        "## 7. Regressão\n",
        "\n",
        "> **Incluir o conjunto de dados na entrega do notebook.**\n",
        ">\n",
        "> **Os conjuntos de dados devem ser diferentes entre os alunos**\n",
        "\n",
        "**Dataset escolhido:** [Apartment for Rent Classified](https://archive.ics.uci.edu/dataset/555/apartment+for+rent+classified)\n",
        "\n",
        "Em uma célula do mesmo notebook crie um texto com markdown, incluindo formatação com títulos, **negrito**, _itálico_ e inclusão de figuras para explicar:\n"
      ],
      "metadata": {
        "id": "5L55EUvZ1pkb"
      }
    },
    {
      "cell_type": "markdown",
      "source": [
        "* Explique simplificadamente o que é o modelo de regressão e quando estes modelos podem ser utilizados;"
      ],
      "metadata": {
        "id": "B5XU8v0p_EEJ"
      }
    },
    {
      "cell_type": "code",
      "execution_count": null,
      "metadata": {
        "id": "bRTyeNQn1pkc"
      },
      "outputs": [],
      "source": []
    },
    {
      "cell_type": "code",
      "source": [],
      "metadata": {
        "id": "0GxLzpjT1pkd"
      },
      "execution_count": null,
      "outputs": []
    },
    {
      "cell_type": "markdown",
      "source": [
        "* Apresente um pequeno exemplo numérico utilizando o que foi aprendido no curso, utilizando um conjunto de dados que não foi visto no curso (pode ser de qualquer lugar na internet) e imprimindo os seguintes resultados:\n",
        "  * [R2](https://scikit-learn.org/stable/modules/generated/sklearn.metrics.r2_score.html)\n",
        "  * [Coeficientes da regressão](https://www.geeksforgeeks.org/regression-coefficients/)"
      ],
      "metadata": {
        "id": "BRzmE_f4_GUb"
      }
    },
    {
      "cell_type": "code",
      "source": [],
      "metadata": {
        "id": "ll2IR6AE_HA7"
      },
      "execution_count": null,
      "outputs": []
    },
    {
      "cell_type": "code",
      "source": [],
      "metadata": {
        "id": "H6vuB_N6AHQz"
      },
      "execution_count": null,
      "outputs": []
    },
    {
      "cell_type": "markdown",
      "source": [
        "* E fazendo um gráfico com a variável resposta (eixo `y`) uma das variáveis preditoras (eixo `x`) e a reta da regressão;"
      ],
      "metadata": {
        "id": "BO5F-X1F_HQ6"
      }
    },
    {
      "cell_type": "code",
      "source": [],
      "metadata": {
        "id": "9YPTOYVH_H2p"
      },
      "execution_count": null,
      "outputs": []
    },
    {
      "cell_type": "code",
      "source": [],
      "metadata": {
        "id": "SqZHdoVtAHj5"
      },
      "execution_count": null,
      "outputs": []
    },
    {
      "cell_type": "markdown",
      "source": [
        "## 8. Classificação\n",
        "\n",
        "> **Incluir o conjunto de dados na entrega do notebook.**\n",
        ">\n",
        "> **Os conjuntos de dados devem ser diferentes entre os alunos**\n",
        "\n",
        "**Dataset escolhido**: [Heart Failure Clinical Records](https://archive.ics.uci.edu/dataset/519/heart+failure+clinical+records)\n",
        "\n",
        "Em uma célula do mesmo notebook crie um texto com markdown, incluindo formatação com títulos, **negrito**, _itálico_ e inclusão de figuras para explicar:\n"
      ],
      "metadata": {
        "id": "KkNRP79Y1puM"
      }
    },
    {
      "cell_type": "markdown",
      "source": [],
      "metadata": {
        "id": "prTevbvRAY35"
      }
    },
    {
      "cell_type": "code",
      "execution_count": null,
      "metadata": {
        "id": "g_6iWHvy1puN"
      },
      "outputs": [],
      "source": []
    },
    {
      "cell_type": "code",
      "source": [],
      "metadata": {
        "id": "1RO7FuNm1puP"
      },
      "execution_count": null,
      "outputs": []
    },
    {
      "cell_type": "markdown",
      "source": [
        "* Explique simplificadamente o que é o modelo de classificação e quando estes modelos podem ser utilizados;"
      ],
      "metadata": {
        "id": "bFKA5egLAZlV"
      }
    },
    {
      "cell_type": "code",
      "source": [],
      "metadata": {
        "id": "BkVbOy8HAZ8K"
      },
      "execution_count": null,
      "outputs": []
    },
    {
      "cell_type": "code",
      "source": [],
      "metadata": {
        "id": "OP7rzyEsAaPM"
      },
      "execution_count": null,
      "outputs": []
    },
    {
      "cell_type": "markdown",
      "source": [
        "* Apresente um pequeno exemplo numérico utilizando o que foi aprendido no curso, utilizando um conjunto de dados que não foi visto no curso (pode ser de qualquer lugar na internet) e imprimindo, utilizando [validação cruzada](https://scikit-learn.org/stable/modules/cross_validation.html), os seguintes resultados:\n",
        "  * [Acurácia](https://scikit-learn.org/stable/modules/model_evaluation.html#accuracy-score)\n",
        "  * [Matriz de confusão](https://scikit-learn.org/stable/modules/model_evaluation.html#confusion-matrix)"
      ],
      "metadata": {
        "id": "N7QB7kkjAgHt"
      }
    },
    {
      "cell_type": "code",
      "source": [],
      "metadata": {
        "id": "yRR9eQUGAgZM"
      },
      "execution_count": null,
      "outputs": []
    },
    {
      "cell_type": "code",
      "source": [],
      "metadata": {
        "id": "KY-lqBJ8AgnA"
      },
      "execution_count": null,
      "outputs": []
    },
    {
      "cell_type": "markdown",
      "source": [
        "## 9. Agrupamento\n",
        "\n",
        "> **Incluir o conjunto de dados na entrega do notebook.**\n",
        ">\n",
        "> **Os conjuntos de dados devem ser diferentes entre os alunos**\n",
        "\n",
        "**Dataset escolhido:** [Turkish Music Emotion](https://archive.ics.uci.edu/dataset/862/turkish+music+emotion)\n",
        "\n",
        "Em uma célula do mesmo notebook crie um texto com markdown, incluindo formatação com títulos, **negrito**, _itálico_ e inclusão de figuras para explicar:\n"
      ],
      "metadata": {
        "id": "2_p977tn1h2c"
      }
    },
    {
      "cell_type": "markdown",
      "source": [
        "* Explique simplificadamente o que é o modelo de [Análise de Componentes Principais (_PCA_)](https://scikit-learn.org/stable/modules/generated/sklearn.decomposition.PCA.html#pca) e quando estes modelos podem ser utilizados;"
      ],
      "metadata": {
        "id": "q-NGA_LaBm8c"
      }
    },
    {
      "cell_type": "code",
      "execution_count": null,
      "metadata": {
        "id": "OvATvh6lybqC"
      },
      "outputs": [],
      "source": []
    },
    {
      "cell_type": "code",
      "source": [],
      "metadata": {
        "id": "cKfIerY71nj4"
      },
      "execution_count": null,
      "outputs": []
    },
    {
      "cell_type": "markdown",
      "source": [
        "* Apresente um pequeno exemplo numérico utilizando o que foi aprendido no curso, utilizando um conjunto de dados que não foi visto no curso (pode ser de qualquer lugar na internet) e imprimindo, os seguintes resultados:\n",
        "  * Variância explicada por cada componente"
      ],
      "metadata": {
        "id": "eWEw7P5RBpQ-"
      }
    },
    {
      "cell_type": "code",
      "source": [],
      "metadata": {
        "id": "FwJ33FIxBpl7"
      },
      "execution_count": null,
      "outputs": []
    },
    {
      "cell_type": "code",
      "source": [],
      "metadata": {
        "id": "hh2L2PTzBp1M"
      },
      "execution_count": null,
      "outputs": []
    },
    {
      "cell_type": "markdown",
      "source": [
        "* Faça um gráfico com os _scores_ do _PCA_ colorindo pelos grupos do seu conjunto de dados."
      ],
      "metadata": {
        "id": "uLJZ90aOBspq"
      }
    },
    {
      "cell_type": "code",
      "source": [],
      "metadata": {
        "id": "HgN-xAEOBtHL"
      },
      "execution_count": null,
      "outputs": []
    },
    {
      "cell_type": "code",
      "source": [],
      "metadata": {
        "id": "afeKe14CBtYt"
      },
      "execution_count": null,
      "outputs": []
    },
    {
      "cell_type": "markdown",
      "source": [
        "## 10. Referências\n",
        "\n",
        "* [Python Brasil - Lista de Exercícios](https://wiki.python.org.br/ListaDeExercicios)\n",
        "* [numpy](https://numpy.org/doc/stable/reference/index.html)\n",
        "* [matplotlib](https://matplotlib.org/stable/api/index)\n",
        "* [seaborn](https://seaborn.pydata.org/api.html)\n",
        "* [pandas](https://pandas.pydata.org/docs/reference/index.html#api)\n",
        "* [scikit-learn](https://scikit-learn.org/stable/api/index.html)\n",
        "* Datasets:\n",
        "  * Regressão:\n",
        "    * Apartment for Rent Classified. (2019). UCI Machine Learning Repository. https://doi.org/10.24432/C5X623.\n",
        "  * Classificação:\n",
        "    * Heart Failure Clinical Records. (2020). UCI Machine Learning Repository. https://doi.org/10.24432/C5Z89R.\n",
        "  * Agrupamento:\n",
        "    * Er,Mehmet Bilal. (2023). Turkish Music Emotion. UCI Machine Learning Repository. https://doi.org/10.24432/C5JG93."
      ],
      "metadata": {
        "id": "WtUtyOzw2C_C"
      }
    }
  ]
}