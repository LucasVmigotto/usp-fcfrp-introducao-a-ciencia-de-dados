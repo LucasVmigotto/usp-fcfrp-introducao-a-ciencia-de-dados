{
  "cells": [
    {
      "cell_type": "markdown",
      "metadata": {
        "id": "ZXVELMYd0_EK"
      },
      "source": [
        "# USP - Introdução à Ciência de Dados\n",
        "**University of São Paulo - School of Pharmaceutical Sciences of Ribeirão Preto (FCFRP)**"
      ]
    },
    {
      "cell_type": "markdown",
      "metadata": {
        "id": "QW0BskCP1AK2"
      },
      "source": [
        "## Sumário\n",
        "\n",
        "* [1. Estruturas de Dados](#1-estruturas-de-dados)\n",
        "* [2. Estruturas de Decisão](#2-estruturas-de-decisão)\n",
        "* [3. Estruturas de Repetição](#3-estruturas-de-repetição)\n",
        "* [4. Funções](#4-funções)\n",
        "* [5. NumPy](#5-numpy)\n",
        "* [6. Pandas](#6-pandas)\n",
        "* [7. Regressão](#7-regressão)\n",
        "* [8. Classificação](#8-classificação)\n",
        "* [9. Agrupamento](#9-agrupamento)\n",
        "* [10. Referências](#10-referências)"
      ]
    },
    {
      "cell_type": "markdown",
      "metadata": {
        "id": "pkq3pxTOFMPs"
      },
      "source": [
        "## 0. Setup de Ambiente"
      ]
    },
    {
      "cell_type": "markdown",
      "metadata": {
        "id": "6_vEReC0Wc08"
      },
      "source": [
        "### 0.1. Instalação de libs"
      ]
    },
    {
      "cell_type": "code",
      "execution_count": 4,
      "metadata": {
        "id": "l6iHBD1lWgrp"
      },
      "outputs": [
        {
          "name": "stdout",
          "output_type": "stream",
          "text": [
            "Writing requirements.txt\n"
          ]
        }
      ],
      "source": [
        "%%writefile requirements.txt\n",
        "matplotlib==3.7.1\n",
        "numpy==1.25.2\n",
        "pandas==2.0.3\n",
        "scikit-learn==1.2.2\n",
        "seaborn==0.13.1"
      ]
    },
    {
      "cell_type": "code",
      "execution_count": null,
      "metadata": {
        "id": "C4Zx-lemWhA7"
      },
      "outputs": [],
      "source": [
        "! pip install -r requirements.txt"
      ]
    },
    {
      "cell_type": "markdown",
      "metadata": {
        "id": "YeZImOa9Fkwy"
      },
      "source": [
        "### 0.2. Importação de libs"
      ]
    },
    {
      "cell_type": "code",
      "execution_count": 1,
      "metadata": {
        "id": "Hhd8TsgmFMn7"
      },
      "outputs": [],
      "source": [
        "from pathlib import Path\n",
        "from urllib.request import urlretrieve\n",
        "\n",
        "import numpy as np\n",
        "import pandas as pd\n",
        "import seaborn as sns\n",
        "from matplotlib import pyplot as plt\n",
        "from numpy import ndarray\n",
        "from pandas import DataFrame\n",
        "from sklearn.decomposition import PCA\n",
        "from sklearn.ensemble import RandomForestClassifier, RandomForestRegressor\n",
        "from sklearn.linear_model import LinearRegression, LogisticRegressionCV\n",
        "from sklearn.metrics import (\n",
        "    ConfusionMatrixDisplay,\n",
        "    accuracy_score,\n",
        "    confusion_matrix,\n",
        "    r2_score,\n",
        ")\n",
        "from sklearn.model_selection import StratifiedKFold, cross_val_predict, train_test_split\n",
        "from sklearn.tree import DecisionTreeClassifier, DecisionTreeRegressor"
      ]
    },
    {
      "cell_type": "markdown",
      "metadata": {
        "id": "P4pM6dtWFitC"
      },
      "source": [
        "### 0.3. Definição de constantes"
      ]
    },
    {
      "cell_type": "code",
      "execution_count": 2,
      "metadata": {
        "id": "0rzEOrbVFhWS"
      },
      "outputs": [],
      "source": [
        "# @markdown **URL dos Datasets usados**\n",
        "\n",
        "__REGRESSAO_DATASET_URL: str = 'https://archive.ics.uci.edu/static/public/555/apartment+for+rent+classified.zip' # @param {type: \"string\"}\n",
        "__CLASSIFICATION_DATASET_URL: str = 'https://archive.ics.uci.edu/static/public/519/heart+failure+clinical+records.zip' # @param {type: \"string\"}\n",
        "__CLUSTERING_DATASET_URL: str = 'https://archive.ics.uci.edu/static/public/862/turkish+music+emotion.zip' # @param {type: \"string\"}\n",
        "\n",
        "# @markdown ---\n",
        "\n",
        "# @markdown **Local de armazenamento dos Datasets**\n",
        "__DATA_BASE_PATH_VALUE: str = './data/' # @param {type: \"string\"}\n",
        "__DATA_BASE_PATH: Path = Path(__DATA_BASE_PATH_VALUE)\n",
        "\n",
        "__REGRESSION_DATA_PATH_VALUE: str = 'regression' # @param {type: \"string\"}\n",
        "REGRESSION_DATA_PATH: Path = __DATA_BASE_PATH / __REGRESSION_DATA_PATH_VALUE\n",
        "\n",
        "__CLASSIFICATION_DATA_PATH_VALUE: str = 'classification' # @param {type: \"string\"}\n",
        "CLASSIFICATION_DATA_PATH: Path = __DATA_BASE_PATH / __CLASSIFICATION_DATA_PATH_VALUE\n",
        "\n",
        "__DECOMPOSITION_DATA_PATH_VALUE: str = 'decomposition' # @param {type: \"string\"}\n",
        "DECOMPOSITION_DATA_PATH: Path = __DATA_BASE_PATH / __DECOMPOSITION_DATA_PATH_VALUE\n",
        "\n",
        "# @markdown ---\n",
        "\n",
        "# @markdown **Preferências para treinamento dos modelos**\n",
        "\n",
        "SEED: int = 42 # @param {type: \"number\"}\n",
        "VERBOSE: bool = 42 # @param {type: \"boolean\"}\n",
        "TEST_RATIO: int = 0.15 # @param {type: \"slider\", min: 0.1, max: 0.9, step: 0.05}\n",
        "K_FOLDS: int = 10 # @param {type: \"slider\", min: 3, max: 10, step: 1}\n"
      ]
    },
    {
      "cell_type": "code",
      "execution_count": 3,
      "metadata": {},
      "outputs": [],
      "source": [
        "np.random.seed(SEED)"
      ]
    },
    {
      "cell_type": "markdown",
      "metadata": {
        "id": "4NzEgxOO11Ei"
      },
      "source": [
        "## 1. Estruturas de Dados"
      ]
    },
    {
      "cell_type": "markdown",
      "metadata": {
        "id": "cdvGjWdC2lWB"
      },
      "source": [
        "### 1.1. Lista de temperaturas\n",
        "\n",
        "Crie uma lista de temperaturas de [dez países](https://pt.wikipedia.org/wiki/Lista_de_pa%C3%ADses_por_extremos_meteorol%C3%B3gicos). Escreva em cada célula de um notebook o acesso a elementos da lista para calcular a temperatura em graus Fahrenheit:\n",
        "\n",
        "$$\n",
        "C=5 \\cdot \\frac{F - 32}{9}\n",
        "$$\n"
      ]
    },
    {
      "cell_type": "code",
      "execution_count": 4,
      "metadata": {
        "id": "GKGL6ddU11aU"
      },
      "outputs": [
        {
          "data": {
            "text/html": [
              "<div>\n",
              "<style scoped>\n",
              "    .dataframe tbody tr th:only-of-type {\n",
              "        vertical-align: middle;\n",
              "    }\n",
              "\n",
              "    .dataframe tbody tr th {\n",
              "        vertical-align: top;\n",
              "    }\n",
              "\n",
              "    .dataframe thead th {\n",
              "        text-align: right;\n",
              "    }\n",
              "</style>\n",
              "<table border=\"1\" class=\"dataframe\">\n",
              "  <thead>\n",
              "    <tr style=\"text-align: right;\">\n",
              "      <th></th>\n",
              "      <th>País/Região</th>\n",
              "      <th>Temperatura mais baixa</th>\n",
              "      <th>Local</th>\n",
              "      <th>Data</th>\n",
              "      <th>Temperatura mais alta</th>\n",
              "      <th>Local.1</th>\n",
              "      <th>Data.1</th>\n",
              "    </tr>\n",
              "  </thead>\n",
              "  <tbody>\n",
              "    <tr>\n",
              "      <th>0</th>\n",
              "      <td>África do Sul</td>\n",
              "      <td>-20.1 ºC</td>\n",
              "      <td>Buffelsfontein, perto de Molteno, Cabo Oriental</td>\n",
              "      <td>23 de agosto de 2013[1]</td>\n",
              "      <td>50.0 ºC</td>\n",
              "      <td>Dunbrody, Cabo Oriental</td>\n",
              "      <td>3 de novembro de 1918[2]</td>\n",
              "    </tr>\n",
              "    <tr>\n",
              "      <th>1</th>\n",
              "      <td>Argélia</td>\n",
              "      <td>-13.8 ºC</td>\n",
              "      <td>Mécheria</td>\n",
              "      <td>28 de janeiro de 2005[3]</td>\n",
              "      <td>51.3 ºC</td>\n",
              "      <td>El Bayadh, El Bayadh</td>\n",
              "      <td>2 de setembro de 1979[3]</td>\n",
              "    </tr>\n",
              "    <tr>\n",
              "      <th>2</th>\n",
              "      <td>Botswana</td>\n",
              "      <td>NaN</td>\n",
              "      <td>NaN</td>\n",
              "      <td>NaN</td>\n",
              "      <td>44.0 ºC</td>\n",
              "      <td>Maun</td>\n",
              "      <td>7 de janeiro de 2016[4]</td>\n",
              "    </tr>\n",
              "    <tr>\n",
              "      <th>3</th>\n",
              "      <td>Burquina Fasso</td>\n",
              "      <td>5 ºC</td>\n",
              "      <td>Markoye</td>\n",
              "      <td>janeiro de 1975[5]</td>\n",
              "      <td>47.2 ºC</td>\n",
              "      <td>Dori</td>\n",
              "      <td>1984[5]</td>\n",
              "    </tr>\n",
              "    <tr>\n",
              "      <th>4</th>\n",
              "      <td>Chade</td>\n",
              "      <td>NaN</td>\n",
              "      <td>NaN</td>\n",
              "      <td>NaN</td>\n",
              "      <td>47.6 ºC</td>\n",
              "      <td>Faya-Largeau</td>\n",
              "      <td>22 de junho de 2010[6]</td>\n",
              "    </tr>\n",
              "  </tbody>\n",
              "</table>\n",
              "</div>"
            ],
            "text/plain": [
              "      País/Região Temperatura mais baixa  \\\n",
              "0   África do Sul               -20.1 ºC   \n",
              "1         Argélia               -13.8 ºC   \n",
              "2        Botswana                    NaN   \n",
              "3  Burquina Fasso                   5 ºC   \n",
              "4           Chade                    NaN   \n",
              "\n",
              "                                             Local                      Data  \\\n",
              "0  Buffelsfontein, perto de Molteno, Cabo Oriental   23 de agosto de 2013[1]   \n",
              "1                                         Mécheria  28 de janeiro de 2005[3]   \n",
              "2                                              NaN                       NaN   \n",
              "3                                          Markoye        janeiro de 1975[5]   \n",
              "4                                              NaN                       NaN   \n",
              "\n",
              "  Temperatura mais alta                  Local.1                    Data.1  \n",
              "0               50.0 ºC  Dunbrody, Cabo Oriental  3 de novembro de 1918[2]  \n",
              "1               51.3 ºC     El Bayadh, El Bayadh  2 de setembro de 1979[3]  \n",
              "2               44.0 ºC                     Maun   7 de janeiro de 2016[4]  \n",
              "3               47.2 ºC                     Dori                   1984[5]  \n",
              "4               47.6 ºC             Faya-Largeau    22 de junho de 2010[6]  "
            ]
          },
          "metadata": {},
          "output_type": "display_data"
        },
        {
          "name": "stdout",
          "output_type": "stream",
          "text": [
            "<class 'pandas.core.frame.DataFrame'>\n",
            "RangeIndex: 116 entries, 0 to 115\n",
            "Data columns (total 7 columns):\n",
            " #   Column                  Non-Null Count  Dtype \n",
            "---  ------                  --------------  ----- \n",
            " 0   País/Região             116 non-null    object\n",
            " 1   Temperatura mais baixa  95 non-null     object\n",
            " 2   Local                   94 non-null     object\n",
            " 3   Data                    93 non-null     object\n",
            " 4   Temperatura mais alta   110 non-null    object\n",
            " 5   Local.1                 110 non-null    object\n",
            " 6   Data.1                  109 non-null    object\n",
            "dtypes: object(7)\n",
            "memory usage: 6.5+ KB\n"
          ]
        }
      ],
      "source": [
        "WIKIPEDIA_COUNTRIES: str = 'https://pt.wikipedia.org/wiki/Lista_de_pa%C3%ADses_por_extremos_meteorol%C3%B3gicos'\n",
        "\n",
        "df_temperature: DataFrame = pd.read_html(WIKIPEDIA_COUNTRIES)[0]\n",
        "\n",
        "display(df_temperature.head())\n",
        "df_temperature.info()"
      ]
    },
    {
      "cell_type": "code",
      "execution_count": 5,
      "metadata": {},
      "outputs": [
        {
          "name": "stdout",
          "output_type": "stream",
          "text": [
            "<class 'pandas.core.frame.DataFrame'>\n",
            "RangeIndex: 87 entries, 0 to 86\n",
            "Data columns (total 7 columns):\n",
            " #   Column                  Non-Null Count  Dtype \n",
            "---  ------                  --------------  ----- \n",
            " 0   País/Região             87 non-null     object\n",
            " 1   Temperatura mais baixa  87 non-null     object\n",
            " 2   Local                   87 non-null     object\n",
            " 3   Data                    87 non-null     object\n",
            " 4   Temperatura mais alta   87 non-null     object\n",
            " 5   Local.1                 87 non-null     object\n",
            " 6   Data.1                  87 non-null     object\n",
            "dtypes: object(7)\n",
            "memory usage: 4.9+ KB\n"
          ]
        }
      ],
      "source": [
        "df_temperature = df_temperature.dropna().reset_index(drop=True)\n",
        "\n",
        "df_temperature.info()"
      ]
    },
    {
      "cell_type": "code",
      "execution_count": 6,
      "metadata": {
        "id": "zHU_L_vN11pF"
      },
      "outputs": [
        {
          "name": "stdout",
          "output_type": "stream",
          "text": [
            "<class 'pandas.core.frame.DataFrame'>\n",
            "Index: 10 entries, 76 to 68\n",
            "Data columns (total 3 columns):\n",
            " #   Column        Non-Null Count  Dtype \n",
            "---  ------        --------------  ----- \n",
            " 0   country       10 non-null     object\n",
            " 1   lowest_temp   10 non-null     object\n",
            " 2   highest_temp  10 non-null     object\n",
            "dtypes: object(3)\n",
            "memory usage: 320.0+ bytes\n"
          ]
        }
      ],
      "source": [
        "COUNTRY_COLUMNS: dict[str, str] = {\n",
        "    'País/Região': 'country',\n",
        "    'Temperatura mais baixa': 'lowest_temp',\n",
        "    'Temperatura mais alta': 'highest_temp'\n",
        "}\n",
        "\n",
        "df_ten_temperatures = df_temperature.sample(10)[COUNTRY_COLUMNS.keys()].rename(columns=COUNTRY_COLUMNS)\n",
        "\n",
        "df_ten_temperatures.info()"
      ]
    },
    {
      "cell_type": "code",
      "execution_count": 7,
      "metadata": {},
      "outputs": [],
      "source": [
        "def celsius_to_fahrenheit(celsius: float) -> float:\n",
        "    return celsius * (9 / 5) + 32\n",
        "\n",
        "\n",
        "def fahrenheit_to_celsius(fahrenheit: float) -> float:\n",
        "    return fahrenheit - 32 * (5 / 9)"
      ]
    },
    {
      "cell_type": "code",
      "execution_count": 8,
      "metadata": {},
      "outputs": [
        {
          "data": {
            "text/html": [
              "<div>\n",
              "<style scoped>\n",
              "    .dataframe tbody tr th:only-of-type {\n",
              "        vertical-align: middle;\n",
              "    }\n",
              "\n",
              "    .dataframe tbody tr th {\n",
              "        vertical-align: top;\n",
              "    }\n",
              "\n",
              "    .dataframe thead th {\n",
              "        text-align: right;\n",
              "    }\n",
              "</style>\n",
              "<table border=\"1\" class=\"dataframe\">\n",
              "  <thead>\n",
              "    <tr style=\"text-align: right;\">\n",
              "      <th></th>\n",
              "      <th>country</th>\n",
              "      <th>lowest_temp</th>\n",
              "      <th>highest_temp</th>\n",
              "    </tr>\n",
              "  </thead>\n",
              "  <tbody>\n",
              "    <tr>\n",
              "      <th>76</th>\n",
              "      <td>Panamá</td>\n",
              "      <td>2.0</td>\n",
              "      <td>40.0</td>\n",
              "    </tr>\n",
              "    <tr>\n",
              "      <th>0</th>\n",
              "      <td>África do Sul</td>\n",
              "      <td>-20.1</td>\n",
              "      <td>50.0</td>\n",
              "    </tr>\n",
              "    <tr>\n",
              "      <th>26</th>\n",
              "      <td>Coreia do Sul</td>\n",
              "      <td>-32.8</td>\n",
              "      <td>40.0</td>\n",
              "    </tr>\n",
              "    <tr>\n",
              "      <th>22</th>\n",
              "      <td>Myanmar</td>\n",
              "      <td>-6.0</td>\n",
              "      <td>47.2</td>\n",
              "    </tr>\n",
              "    <tr>\n",
              "      <th>12</th>\n",
              "      <td>Hong Kong</td>\n",
              "      <td>-6.0</td>\n",
              "      <td>37.9</td>\n",
              "    </tr>\n",
              "    <tr>\n",
              "      <th>67</th>\n",
              "      <td>Suíça</td>\n",
              "      <td>-41.8</td>\n",
              "      <td>41.5</td>\n",
              "    </tr>\n",
              "    <tr>\n",
              "      <th>10</th>\n",
              "      <td>Camboja</td>\n",
              "      <td>10.0</td>\n",
              "      <td>42.6</td>\n",
              "    </tr>\n",
              "    <tr>\n",
              "      <th>18</th>\n",
              "      <td>Quirguistão</td>\n",
              "      <td>-53.6</td>\n",
              "      <td>44.0</td>\n",
              "    </tr>\n",
              "    <tr>\n",
              "      <th>4</th>\n",
              "      <td>Essuatíni</td>\n",
              "      <td>-6.7</td>\n",
              "      <td>47.7</td>\n",
              "    </tr>\n",
              "    <tr>\n",
              "      <th>68</th>\n",
              "      <td>Ucrânia</td>\n",
              "      <td>-41.9</td>\n",
              "      <td>42.0</td>\n",
              "    </tr>\n",
              "  </tbody>\n",
              "</table>\n",
              "</div>"
            ],
            "text/plain": [
              "          country  lowest_temp  highest_temp\n",
              "76         Panamá          2.0          40.0\n",
              "0   África do Sul        -20.1          50.0\n",
              "26  Coreia do Sul        -32.8          40.0\n",
              "22        Myanmar         -6.0          47.2\n",
              "12      Hong Kong         -6.0          37.9\n",
              "67          Suíça        -41.8          41.5\n",
              "10        Camboja         10.0          42.6\n",
              "18    Quirguistão        -53.6          44.0\n",
              "4       Essuatíni         -6.7          47.7\n",
              "68        Ucrânia        -41.9          42.0"
            ]
          },
          "execution_count": 8,
          "metadata": {},
          "output_type": "execute_result"
        }
      ],
      "source": [
        "EXTRACT_TEMP: str = r'(-?\\d{1,2}\\.?\\d?)'\n",
        "\n",
        "df_ten_temperatures['highest_temp'] = df_ten_temperatures['highest_temp'].str.extract(EXTRACT_TEMP).astype(float)\n",
        "df_ten_temperatures['lowest_temp'] = df_ten_temperatures['lowest_temp'].str.extract(EXTRACT_TEMP).astype(float)\n",
        "\n",
        "df_ten_temperatures"
      ]
    },
    {
      "cell_type": "code",
      "execution_count": 9,
      "metadata": {},
      "outputs": [
        {
          "data": {
            "text/html": [
              "<div>\n",
              "<style scoped>\n",
              "    .dataframe tbody tr th:only-of-type {\n",
              "        vertical-align: middle;\n",
              "    }\n",
              "\n",
              "    .dataframe tbody tr th {\n",
              "        vertical-align: top;\n",
              "    }\n",
              "\n",
              "    .dataframe thead th {\n",
              "        text-align: right;\n",
              "    }\n",
              "</style>\n",
              "<table border=\"1\" class=\"dataframe\">\n",
              "  <thead>\n",
              "    <tr style=\"text-align: right;\">\n",
              "      <th></th>\n",
              "      <th>country</th>\n",
              "      <th>lowest_temp</th>\n",
              "      <th>highest_temp</th>\n",
              "      <th>lowest_temp_fahrenheit</th>\n",
              "      <th>highest_temp_fahrenheit</th>\n",
              "    </tr>\n",
              "  </thead>\n",
              "  <tbody>\n",
              "    <tr>\n",
              "      <th>76</th>\n",
              "      <td>Panamá</td>\n",
              "      <td>2.0</td>\n",
              "      <td>40.0</td>\n",
              "      <td>35.60</td>\n",
              "      <td>104.00</td>\n",
              "    </tr>\n",
              "    <tr>\n",
              "      <th>0</th>\n",
              "      <td>África do Sul</td>\n",
              "      <td>-20.1</td>\n",
              "      <td>50.0</td>\n",
              "      <td>-4.18</td>\n",
              "      <td>122.00</td>\n",
              "    </tr>\n",
              "    <tr>\n",
              "      <th>26</th>\n",
              "      <td>Coreia do Sul</td>\n",
              "      <td>-32.8</td>\n",
              "      <td>40.0</td>\n",
              "      <td>-27.04</td>\n",
              "      <td>104.00</td>\n",
              "    </tr>\n",
              "    <tr>\n",
              "      <th>22</th>\n",
              "      <td>Myanmar</td>\n",
              "      <td>-6.0</td>\n",
              "      <td>47.2</td>\n",
              "      <td>21.20</td>\n",
              "      <td>116.96</td>\n",
              "    </tr>\n",
              "    <tr>\n",
              "      <th>12</th>\n",
              "      <td>Hong Kong</td>\n",
              "      <td>-6.0</td>\n",
              "      <td>37.9</td>\n",
              "      <td>21.20</td>\n",
              "      <td>100.22</td>\n",
              "    </tr>\n",
              "    <tr>\n",
              "      <th>67</th>\n",
              "      <td>Suíça</td>\n",
              "      <td>-41.8</td>\n",
              "      <td>41.5</td>\n",
              "      <td>-43.24</td>\n",
              "      <td>106.70</td>\n",
              "    </tr>\n",
              "    <tr>\n",
              "      <th>10</th>\n",
              "      <td>Camboja</td>\n",
              "      <td>10.0</td>\n",
              "      <td>42.6</td>\n",
              "      <td>50.00</td>\n",
              "      <td>108.68</td>\n",
              "    </tr>\n",
              "    <tr>\n",
              "      <th>18</th>\n",
              "      <td>Quirguistão</td>\n",
              "      <td>-53.6</td>\n",
              "      <td>44.0</td>\n",
              "      <td>-64.48</td>\n",
              "      <td>111.20</td>\n",
              "    </tr>\n",
              "    <tr>\n",
              "      <th>4</th>\n",
              "      <td>Essuatíni</td>\n",
              "      <td>-6.7</td>\n",
              "      <td>47.7</td>\n",
              "      <td>19.94</td>\n",
              "      <td>117.86</td>\n",
              "    </tr>\n",
              "    <tr>\n",
              "      <th>68</th>\n",
              "      <td>Ucrânia</td>\n",
              "      <td>-41.9</td>\n",
              "      <td>42.0</td>\n",
              "      <td>-43.42</td>\n",
              "      <td>107.60</td>\n",
              "    </tr>\n",
              "  </tbody>\n",
              "</table>\n",
              "</div>"
            ],
            "text/plain": [
              "          country  lowest_temp  highest_temp  lowest_temp_fahrenheit  \\\n",
              "76         Panamá          2.0          40.0                   35.60   \n",
              "0   África do Sul        -20.1          50.0                   -4.18   \n",
              "26  Coreia do Sul        -32.8          40.0                  -27.04   \n",
              "22        Myanmar         -6.0          47.2                   21.20   \n",
              "12      Hong Kong         -6.0          37.9                   21.20   \n",
              "67          Suíça        -41.8          41.5                  -43.24   \n",
              "10        Camboja         10.0          42.6                   50.00   \n",
              "18    Quirguistão        -53.6          44.0                  -64.48   \n",
              "4       Essuatíni         -6.7          47.7                   19.94   \n",
              "68        Ucrânia        -41.9          42.0                  -43.42   \n",
              "\n",
              "    highest_temp_fahrenheit  \n",
              "76                   104.00  \n",
              "0                    122.00  \n",
              "26                   104.00  \n",
              "22                   116.96  \n",
              "12                   100.22  \n",
              "67                   106.70  \n",
              "10                   108.68  \n",
              "18                   111.20  \n",
              "4                    117.86  \n",
              "68                   107.60  "
            ]
          },
          "execution_count": 9,
          "metadata": {},
          "output_type": "execute_result"
        }
      ],
      "source": [
        "df_ten_temperatures['lowest_temp_fahrenheit'] = df_ten_temperatures['lowest_temp'].apply(celsius_to_fahrenheit)\n",
        "df_ten_temperatures['highest_temp_fahrenheit'] = df_ten_temperatures['highest_temp'].apply(celsius_to_fahrenheit)\n",
        "\n",
        "df_ten_temperatures"
      ]
    },
    {
      "cell_type": "code",
      "execution_count": null,
      "metadata": {},
      "outputs": [],
      "source": []
    },
    {
      "cell_type": "markdown",
      "metadata": {
        "id": "n641n9Zd3AU8"
      },
      "source": [
        "### 1.2. Altura média por país\n",
        "\n",
        "Tendo como dados de entrada a [altura média por país](https://pt.wikipedia.org/wiki/Estatura) crie um dicionário com 10 países, com chave como nome do país e valor como altura média, imprima em cada linha de um notebook o peso ideal:\n",
        "\n",
        "$$\n",
        "\\text{Peso Ideal} = 72 \\cdot \\text{Altura} - 58\n",
        "$$\n",
        "\n",
        "por país, utilizando um dicionário e o operador de formatação [`f''`](https://docs.python.org/3/tutorial/inputoutput.html#formatted-string-literals)\n"
      ]
    },
    {
      "cell_type": "code",
      "execution_count": null,
      "metadata": {
        "id": "AVL4pYOm3GSY"
      },
      "outputs": [],
      "source": []
    },
    {
      "cell_type": "code",
      "execution_count": null,
      "metadata": {
        "id": "YPzAKNY33GgK"
      },
      "outputs": [],
      "source": []
    },
    {
      "cell_type": "markdown",
      "metadata": {
        "id": "qAAWn23l3vp7"
      },
      "source": [
        "### 1.3. Conversão de valor de bolsa de estudos\n",
        "\n",
        "Faça a conversão do valor de bolsas de pós-graduação de [três países](https://exame.abril.com.br/carreira/confira-63-bolsas-para-estudar-em-paises-como-canada-eua-e-alemanha/) para Reais, imprimindo o salário de uma jornada de 40h semanais:\n",
        "* Por hora trabalhada;\n",
        "* Por mês;\n",
        "* Por ano.\n"
      ]
    },
    {
      "cell_type": "code",
      "execution_count": null,
      "metadata": {
        "id": "8xf3S_WU3xWD"
      },
      "outputs": [],
      "source": []
    },
    {
      "cell_type": "code",
      "execution_count": null,
      "metadata": {
        "id": "0Tua5_fp3xkG"
      },
      "outputs": [],
      "source": []
    },
    {
      "cell_type": "markdown",
      "metadata": {
        "id": "4szu5im61oic"
      },
      "source": [
        "## 2. Estruturas de Decisão"
      ]
    },
    {
      "cell_type": "markdown",
      "metadata": {
        "id": "_5bOnoJQ4ORl"
      },
      "source": [
        "### 2.1. Está frio?\n",
        "\n",
        "Escreva código em uma célula, para, dado o elemento de uma lista de temperaturas acima, imprimir \"`está frio`\" se a temperatura for menor que um valor de uma variável `t` definida por você ou \"`está calor`\" caso contrário."
      ]
    },
    {
      "cell_type": "code",
      "execution_count": null,
      "metadata": {
        "id": "ff74c2w01oid"
      },
      "outputs": [],
      "source": []
    },
    {
      "cell_type": "code",
      "execution_count": null,
      "metadata": {
        "id": "Ssomppcr1oif"
      },
      "outputs": [],
      "source": []
    },
    {
      "cell_type": "markdown",
      "metadata": {
        "id": "yZ87r_L14VQp"
      },
      "source": [
        "### 2.2. Combustíveis\n",
        "\n",
        "Um posto está vendendo combustíveis com a seguinte tabela de descontos:\n",
        "\n",
        "|  Volume  |         Álcool         |        Gasolina        |\n",
        "|---------:|:----------------------:|:-----------------------|\n",
        "|$\\lt{20l}$|desconto de $3%$ por $l$|desconto de $4%$ por $l$|\n",
        "|$\\ge{20l}$|desconto de $5%$ por $l$|desconto de $6%$ por $l$|\n",
        "\n",
        "Escreva um código que leia o número de litros vendidos, o tipo de combustível (codificado da seguinte forma: A-álcool, G-gasolina), calcule e imprima o valor a ser pago pelo cliente sabendo-se que o preço do litro da gasolina é 2,50 reais, e o preço do litro do álcool é de 1,90 reais.\n"
      ]
    },
    {
      "cell_type": "code",
      "execution_count": null,
      "metadata": {
        "id": "RPbVqa5J4VQr"
      },
      "outputs": [],
      "source": []
    },
    {
      "cell_type": "code",
      "execution_count": null,
      "metadata": {
        "id": "G9azR3V54VQr"
      },
      "outputs": [],
      "source": []
    },
    {
      "cell_type": "markdown",
      "metadata": {
        "id": "PTk7tw444Vyp"
      },
      "source": [
        "### 2.3. Frutaria\n",
        "\n",
        "Uma fruteira está vendendo frutas com a seguinte tabela de preços:\n",
        "\n",
        "|Fruta|$\\lt{5}\\text{Kg}$|$\\ge{5}\\text{Kg}$|\n",
        "|-:|:-:|:-|\n",
        "|Morango|2,50 reais por kilo|2,20 reais por kilo|\n",
        "|Maçã|1,80 reais por kilo|1,50 reais por kilo|\n",
        "\n",
        "Se o cliente comprar mais de 8 Kg em frutas ou o valor total da compra ultrapassar R$ 25,00, receberá ainda um desconto de 10% sobre este total. Escreva código para ler a quantidade (em Kg) de morangos e a quantidade (em Kg) de maças adquiridas e escreva o valor a ser pago pelo cliente."
      ]
    },
    {
      "cell_type": "code",
      "execution_count": null,
      "metadata": {
        "id": "vO8X8o7_4Vyq"
      },
      "outputs": [],
      "source": []
    },
    {
      "cell_type": "code",
      "execution_count": null,
      "metadata": {
        "id": "ZNj0ec7Y4Vyr"
      },
      "outputs": [],
      "source": []
    },
    {
      "cell_type": "markdown",
      "metadata": {
        "id": "iy5BhJDy1ozM"
      },
      "source": [
        "## 3. Estruturas de Repetição"
      ]
    },
    {
      "cell_type": "markdown",
      "metadata": {
        "id": "_d34QFJ04blg"
      },
      "source": [
        "### 3.1. Tabuada\n",
        "\n",
        "Desenvolva um gerador de tabuada, capaz de gerar a tabuada de qualquer número inteiro entre 1 a 10. Dada uma variável k em uma célula calcular a tabuada para o número. A saída deve ser conforme o exemplo abaixo:\n",
        "\n",
        "```text\n",
        "Tabuado de 5:\n",
        "5 X 1 = 5\n",
        "5 X 2 = 10\n",
        "...\n",
        "5 X 10 = 50\n",
        "```"
      ]
    },
    {
      "cell_type": "code",
      "execution_count": null,
      "metadata": {
        "id": "73GVcAGe4blk"
      },
      "outputs": [],
      "source": []
    },
    {
      "cell_type": "code",
      "execution_count": null,
      "metadata": {
        "id": "Kul-ciA_1ozQ"
      },
      "outputs": [],
      "source": []
    },
    {
      "cell_type": "markdown",
      "metadata": {
        "id": "NWmGXB_44dA9"
      },
      "source": [
        "### 3.2. Repetição com temperaturas\n",
        "\n",
        "Utilize uma estrutura de repetição para imprimir todos os elementos das listas de temperatura e altura criadas acima."
      ]
    },
    {
      "cell_type": "code",
      "execution_count": null,
      "metadata": {
        "id": "tMVQjlh74dA_"
      },
      "outputs": [],
      "source": []
    },
    {
      "cell_type": "code",
      "execution_count": null,
      "metadata": {
        "id": "0i2i3Lt_4dBA"
      },
      "outputs": [],
      "source": []
    },
    {
      "cell_type": "markdown",
      "metadata": {
        "id": "PAeQHSXr4dSD"
      },
      "source": [
        "### 3.3. Repetindo e formatando\n",
        "\n",
        "Acesse chaves e valores do dicionário criado acima, e imprima cada item utilizando o operador de formatação."
      ]
    },
    {
      "cell_type": "code",
      "execution_count": null,
      "metadata": {
        "id": "hsKWOY6B4dSE"
      },
      "outputs": [],
      "source": []
    },
    {
      "cell_type": "code",
      "execution_count": null,
      "metadata": {
        "id": "7GaayQ8k4dSF"
      },
      "outputs": [],
      "source": []
    },
    {
      "cell_type": "markdown",
      "metadata": {
        "id": "jvzbIgUr1pAL"
      },
      "source": [
        "## 4. Funções"
      ]
    },
    {
      "cell_type": "markdown",
      "metadata": {
        "id": "Ft-fAAvH4en7"
      },
      "source": [
        "### 4.1. Invertendo\n",
        "\n",
        "Faça uma função que retorne o reverso de um número inteiro informado.\n",
        "> Por exemplo: `127 -> 721`"
      ]
    },
    {
      "cell_type": "code",
      "execution_count": null,
      "metadata": {
        "id": "nMqIClIJ4en8"
      },
      "outputs": [],
      "source": []
    },
    {
      "cell_type": "code",
      "execution_count": null,
      "metadata": {
        "id": "5oQBzNFH4en8"
      },
      "outputs": [],
      "source": []
    },
    {
      "cell_type": "markdown",
      "metadata": {
        "id": "2ig-1XkY4fSs"
      },
      "source": [
        "### 4.2. Convertendo uma temperatura\n",
        "\n",
        "Faça uma função para converter, que dado um valor numérico de temperatura e um valor de caractere para a escala (Celsius ou Farenheit) converta o número para a escala desejada e retorna o valor."
      ]
    },
    {
      "cell_type": "code",
      "execution_count": null,
      "metadata": {
        "id": "s5Dx5tB_4fSt"
      },
      "outputs": [],
      "source": []
    },
    {
      "cell_type": "code",
      "execution_count": null,
      "metadata": {
        "id": "sEspu3CK4fSu"
      },
      "outputs": [],
      "source": []
    },
    {
      "cell_type": "markdown",
      "metadata": {
        "id": "UkUi3V4g4fqb"
      },
      "source": [
        "### 4.3. 24 para 12 horas com AM/PM\n",
        "\n",
        "Faça uma programa que converta da notação de 24 horas para a notação de 12 horas. Por exemplo, o programa deve converter 14:25 em 2:25 P.M. A entrada é dada em dois inteiros."
      ]
    },
    {
      "cell_type": "code",
      "execution_count": null,
      "metadata": {
        "id": "gd_rVTyV4fqd"
      },
      "outputs": [],
      "source": []
    },
    {
      "cell_type": "code",
      "execution_count": null,
      "metadata": {
        "id": "dNV30wjZ4fqd"
      },
      "outputs": [],
      "source": []
    },
    {
      "cell_type": "markdown",
      "metadata": {
        "id": "3U8gpEmG1pLZ"
      },
      "source": [
        "## 5. NumPy"
      ]
    },
    {
      "cell_type": "markdown",
      "metadata": {
        "id": "o_OJ3UA81pLa"
      },
      "source": [
        "### 5.1. Primeira matriz NumPy\n",
        "\n",
        "Escreva código para criar uma matriz 4 x 10, com números simulados de uma distribuição normal com média 10 e variância 5, e substitua todos os elementos da primeira coluna maiores que 12 por 0."
      ]
    },
    {
      "cell_type": "code",
      "execution_count": null,
      "metadata": {
        "id": "5uS27tWz4hg6"
      },
      "outputs": [],
      "source": []
    },
    {
      "cell_type": "code",
      "execution_count": null,
      "metadata": {
        "id": "gQeylbcX1pLb"
      },
      "outputs": [],
      "source": []
    },
    {
      "cell_type": "markdown",
      "metadata": {
        "id": "tcFItATP4iKG"
      },
      "source": [
        "### 5.2. Alturas, Pesos e Matrizes\n",
        "\n",
        "Crie uma matriz 3x3 com 3 alturas de 3 países e calcule o peso ideal (fórmula acima) para multiplicar e somar aos elementos da matriz."
      ]
    },
    {
      "cell_type": "code",
      "execution_count": null,
      "metadata": {
        "id": "MuiNx5kd4iKH"
      },
      "outputs": [],
      "source": []
    },
    {
      "cell_type": "code",
      "execution_count": null,
      "metadata": {
        "id": "bL6-O_YA4iKI"
      },
      "outputs": [],
      "source": []
    },
    {
      "cell_type": "markdown",
      "metadata": {
        "id": "kOxX5wPf4icZ"
      },
      "source": [
        "### 5.3. NumPy the Hardway: No broadcasting 💪\n",
        "\n",
        "Faça uma função que recebe dois parâmetros, uma matriz numpy e uma constante, e utiliza estruturas de repetição para multiplicar cada elemento da matriz e retorna a matriz multiplicada."
      ]
    },
    {
      "cell_type": "code",
      "execution_count": null,
      "metadata": {
        "id": "usk2NS9-4ica"
      },
      "outputs": [],
      "source": []
    },
    {
      "cell_type": "code",
      "execution_count": null,
      "metadata": {
        "id": "hpa5LVsA4icc"
      },
      "outputs": [],
      "source": []
    },
    {
      "cell_type": "markdown",
      "metadata": {
        "id": "NLObMiUP1pYb"
      },
      "source": [
        "## 6. Pandas\n",
        "\n",
        "> Para os exercícios, utilize [este conjunto de dados](https://drive.google.com/open?id=1u1SEDTja9QC7MAj_VlQcxNtAhQfs-5YR)"
      ]
    },
    {
      "cell_type": "markdown",
      "metadata": {
        "id": "mmj8xXgZ4lRX"
      },
      "source": [
        "### 6.1. Explorando o [DataFrame](https://pandas.pydata.org/docs/reference/api/pandas.DataFrame.html)\n",
        "\n",
        "Faça uma função, que dado um dataframe com os dados acima. imprime a média e o desvio padrão das variáveis 'season' e 'holiday'."
      ]
    },
    {
      "cell_type": "code",
      "execution_count": null,
      "metadata": {
        "id": "iWQYl_px1pYc"
      },
      "outputs": [],
      "source": []
    },
    {
      "cell_type": "code",
      "execution_count": null,
      "metadata": {
        "id": "9Xi0vxmM1pYc"
      },
      "outputs": [],
      "source": []
    },
    {
      "cell_type": "markdown",
      "metadata": {
        "id": "_QiNGjoW4mrY"
      },
      "source": [
        "### 6.2. Novas colunas, novos dados\n",
        "\n",
        "Crie uma nova coluna no `dataframe`, com o nome `'month'` com o mês correspondente de cada linha da coluna `'datetime'` e escreva uma função que dado um `dataframe`, e um valor numérico entre 1 e 12, retorna um sub-`dataframe` para o mês requerido."
      ]
    },
    {
      "cell_type": "code",
      "execution_count": null,
      "metadata": {
        "id": "5L8ZHXoT4mrY"
      },
      "outputs": [],
      "source": []
    },
    {
      "cell_type": "code",
      "execution_count": null,
      "metadata": {
        "id": "Fu3pifkM4mrZ"
      },
      "outputs": [],
      "source": []
    },
    {
      "cell_type": "markdown",
      "metadata": {
        "id": "DXftEXaf4nTd"
      },
      "source": [
        "### 6.3. _Histogramando_ um pouco\n",
        "\n",
        "Faça um histograma da variável `'temp'` e um boxplot único com a variável `'temp'` em cada `'month'` (no eixo x).\n"
      ]
    },
    {
      "cell_type": "code",
      "execution_count": null,
      "metadata": {
        "id": "xeu2plVp4nTk"
      },
      "outputs": [],
      "source": []
    },
    {
      "cell_type": "code",
      "execution_count": null,
      "metadata": {
        "id": "VUffH6wm4nTm"
      },
      "outputs": [],
      "source": []
    },
    {
      "cell_type": "markdown",
      "metadata": {
        "id": "5L55EUvZ1pkb"
      },
      "source": [
        "## 7. Regressão\n",
        "\n",
        "> **Incluir o conjunto de dados na entrega do notebook.**\n",
        ">\n",
        "> **Os conjuntos de dados devem ser diferentes entre os alunos**\n",
        "\n",
        "**Dataset escolhido:** [Apartment for Rent Classified](https://archive.ics.uci.edu/dataset/555/apartment+for+rent+classified)\n",
        "\n",
        "Em uma célula do mesmo notebook crie um texto com markdown, incluindo formatação com títulos, **negrito**, _itálico_ e inclusão de figuras para explicar:\n"
      ]
    },
    {
      "cell_type": "markdown",
      "metadata": {
        "id": "B5XU8v0p_EEJ"
      },
      "source": [
        "* Explique simplificadamente o que é o modelo de regressão e quando estes modelos podem ser utilizados;"
      ]
    },
    {
      "cell_type": "code",
      "execution_count": null,
      "metadata": {
        "id": "bRTyeNQn1pkc"
      },
      "outputs": [],
      "source": []
    },
    {
      "cell_type": "code",
      "execution_count": null,
      "metadata": {
        "id": "0GxLzpjT1pkd"
      },
      "outputs": [],
      "source": []
    },
    {
      "cell_type": "markdown",
      "metadata": {
        "id": "BRzmE_f4_GUb"
      },
      "source": [
        "* Apresente um pequeno exemplo numérico utilizando o que foi aprendido no curso, utilizando um conjunto de dados que não foi visto no curso (pode ser de qualquer lugar na internet) e imprimindo os seguintes resultados:\n",
        "  * [R2](https://scikit-learn.org/stable/modules/generated/sklearn.metrics.r2_score.html)\n",
        "  * [Coeficientes da regressão](https://www.geeksforgeeks.org/regression-coefficients/)"
      ]
    },
    {
      "cell_type": "code",
      "execution_count": null,
      "metadata": {
        "id": "ll2IR6AE_HA7"
      },
      "outputs": [],
      "source": []
    },
    {
      "cell_type": "code",
      "execution_count": null,
      "metadata": {
        "id": "H6vuB_N6AHQz"
      },
      "outputs": [],
      "source": []
    },
    {
      "cell_type": "markdown",
      "metadata": {
        "id": "BO5F-X1F_HQ6"
      },
      "source": [
        "* E fazendo um gráfico com a variável resposta (eixo `y`) uma das variáveis preditoras (eixo `x`) e a reta da regressão;"
      ]
    },
    {
      "cell_type": "code",
      "execution_count": null,
      "metadata": {
        "id": "9YPTOYVH_H2p"
      },
      "outputs": [],
      "source": []
    },
    {
      "cell_type": "code",
      "execution_count": null,
      "metadata": {
        "id": "SqZHdoVtAHj5"
      },
      "outputs": [],
      "source": []
    },
    {
      "cell_type": "markdown",
      "metadata": {
        "id": "KkNRP79Y1puM"
      },
      "source": [
        "## 8. Classificação\n",
        "\n",
        "> **Incluir o conjunto de dados na entrega do notebook.**\n",
        ">\n",
        "> **Os conjuntos de dados devem ser diferentes entre os alunos**\n",
        "\n",
        "**Dataset escolhido**: [Heart Failure Clinical Records](https://archive.ics.uci.edu/dataset/519/heart+failure+clinical+records)\n",
        "\n",
        "Em uma célula do mesmo notebook crie um texto com markdown, incluindo formatação com títulos, **negrito**, _itálico_ e inclusão de figuras para explicar:\n"
      ]
    },
    {
      "cell_type": "markdown",
      "metadata": {
        "id": "prTevbvRAY35"
      },
      "source": []
    },
    {
      "cell_type": "code",
      "execution_count": null,
      "metadata": {
        "id": "g_6iWHvy1puN"
      },
      "outputs": [],
      "source": []
    },
    {
      "cell_type": "code",
      "execution_count": null,
      "metadata": {
        "id": "1RO7FuNm1puP"
      },
      "outputs": [],
      "source": []
    },
    {
      "cell_type": "markdown",
      "metadata": {
        "id": "bFKA5egLAZlV"
      },
      "source": [
        "* Explique simplificadamente o que é o modelo de classificação e quando estes modelos podem ser utilizados;"
      ]
    },
    {
      "cell_type": "code",
      "execution_count": null,
      "metadata": {
        "id": "BkVbOy8HAZ8K"
      },
      "outputs": [],
      "source": []
    },
    {
      "cell_type": "code",
      "execution_count": null,
      "metadata": {
        "id": "OP7rzyEsAaPM"
      },
      "outputs": [],
      "source": []
    },
    {
      "cell_type": "markdown",
      "metadata": {
        "id": "N7QB7kkjAgHt"
      },
      "source": [
        "* Apresente um pequeno exemplo numérico utilizando o que foi aprendido no curso, utilizando um conjunto de dados que não foi visto no curso (pode ser de qualquer lugar na internet) e imprimindo, utilizando [validação cruzada](https://scikit-learn.org/stable/modules/cross_validation.html), os seguintes resultados:\n",
        "  * [Acurácia](https://scikit-learn.org/stable/modules/model_evaluation.html#accuracy-score)\n",
        "  * [Matriz de confusão](https://scikit-learn.org/stable/modules/model_evaluation.html#confusion-matrix)"
      ]
    },
    {
      "cell_type": "code",
      "execution_count": null,
      "metadata": {
        "id": "yRR9eQUGAgZM"
      },
      "outputs": [],
      "source": []
    },
    {
      "cell_type": "code",
      "execution_count": null,
      "metadata": {
        "id": "KY-lqBJ8AgnA"
      },
      "outputs": [],
      "source": []
    },
    {
      "cell_type": "markdown",
      "metadata": {
        "id": "2_p977tn1h2c"
      },
      "source": [
        "## 9. Agrupamento\n",
        "\n",
        "> **Incluir o conjunto de dados na entrega do notebook.**\n",
        ">\n",
        "> **Os conjuntos de dados devem ser diferentes entre os alunos**\n",
        "\n",
        "**Dataset escolhido:** [Turkish Music Emotion](https://archive.ics.uci.edu/dataset/862/turkish+music+emotion)\n",
        "\n",
        "Em uma célula do mesmo notebook crie um texto com markdown, incluindo formatação com títulos, **negrito**, _itálico_ e inclusão de figuras para explicar:\n"
      ]
    },
    {
      "cell_type": "markdown",
      "metadata": {
        "id": "q-NGA_LaBm8c"
      },
      "source": [
        "* Explique simplificadamente o que é o modelo de [Análise de Componentes Principais (_PCA_)](https://scikit-learn.org/stable/modules/generated/sklearn.decomposition.PCA.html#pca) e quando estes modelos podem ser utilizados;"
      ]
    },
    {
      "cell_type": "code",
      "execution_count": null,
      "metadata": {
        "id": "OvATvh6lybqC"
      },
      "outputs": [],
      "source": []
    },
    {
      "cell_type": "code",
      "execution_count": null,
      "metadata": {
        "id": "cKfIerY71nj4"
      },
      "outputs": [],
      "source": []
    },
    {
      "cell_type": "markdown",
      "metadata": {
        "id": "eWEw7P5RBpQ-"
      },
      "source": [
        "* Apresente um pequeno exemplo numérico utilizando o que foi aprendido no curso, utilizando um conjunto de dados que não foi visto no curso (pode ser de qualquer lugar na internet) e imprimindo, os seguintes resultados:\n",
        "  * Variância explicada por cada componente"
      ]
    },
    {
      "cell_type": "code",
      "execution_count": null,
      "metadata": {
        "id": "FwJ33FIxBpl7"
      },
      "outputs": [],
      "source": []
    },
    {
      "cell_type": "code",
      "execution_count": null,
      "metadata": {
        "id": "hh2L2PTzBp1M"
      },
      "outputs": [],
      "source": []
    },
    {
      "cell_type": "markdown",
      "metadata": {
        "id": "uLJZ90aOBspq"
      },
      "source": [
        "* Faça um gráfico com os _scores_ do _PCA_ colorindo pelos grupos do seu conjunto de dados."
      ]
    },
    {
      "cell_type": "code",
      "execution_count": null,
      "metadata": {
        "id": "HgN-xAEOBtHL"
      },
      "outputs": [],
      "source": []
    },
    {
      "cell_type": "code",
      "execution_count": null,
      "metadata": {
        "id": "afeKe14CBtYt"
      },
      "outputs": [],
      "source": []
    },
    {
      "cell_type": "markdown",
      "metadata": {
        "id": "WtUtyOzw2C_C"
      },
      "source": [
        "## 10. Referências\n",
        "\n",
        "* [Python Brasil - Lista de Exercícios](https://wiki.python.org.br/ListaDeExercicios)\n",
        "* [numpy](https://numpy.org/doc/stable/reference/index.html)\n",
        "* [matplotlib](https://matplotlib.org/stable/api/index)\n",
        "* [seaborn](https://seaborn.pydata.org/api.html)\n",
        "* [pandas](https://pandas.pydata.org/docs/reference/index.html#api)\n",
        "* [scikit-learn](https://scikit-learn.org/stable/api/index.html)\n",
        "* Datasets:\n",
        "  * Regressão:\n",
        "    * Apartment for Rent Classified. (2019). UCI Machine Learning Repository. https://doi.org/10.24432/C5X623.\n",
        "  * Classificação:\n",
        "    * Heart Failure Clinical Records. (2020). UCI Machine Learning Repository. https://doi.org/10.24432/C5Z89R.\n",
        "  * Agrupamento:\n",
        "    * Er,Mehmet Bilal. (2023). Turkish Music Emotion. UCI Machine Learning Repository. https://doi.org/10.24432/C5JG93."
      ]
    }
  ],
  "metadata": {
    "colab": {
      "collapsed_sections": [
        "pkq3pxTOFMPs",
        "4NzEgxOO11Ei",
        "4szu5im61oic",
        "iy5BhJDy1ozM",
        "jvzbIgUr1pAL",
        "3U8gpEmG1pLZ",
        "NLObMiUP1pYb",
        "5L55EUvZ1pkb",
        "KkNRP79Y1puM",
        "2_p977tn1h2c"
      ],
      "provenance": []
    },
    "kernelspec": {
      "display_name": "Python 3",
      "name": "python3"
    },
    "language_info": {
      "codemirror_mode": {
        "name": "ipython",
        "version": 3
      },
      "file_extension": ".py",
      "mimetype": "text/x-python",
      "name": "python",
      "nbconvert_exporter": "python",
      "pygments_lexer": "ipython3",
      "version": "3.12.4"
    }
  },
  "nbformat": 4,
  "nbformat_minor": 0
}
